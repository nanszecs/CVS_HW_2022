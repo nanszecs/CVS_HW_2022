{
  "cells": [
    {
      "cell_type": "markdown",
      "metadata": {
        "id": "Ul0rvDQ2ZtmZ"
      },
      "source": [
        "# **Computer Vision Systems Homework**\n",
        "\n",
        "**Dear fellow engineers!**\n",
        "\n",
        "The nice people of Sim City would like to welcome you in their humble town, which is built entirely from environmentally friendly, recyclable triangles and pixels. In their most recent town meeting, the people decided that it was time for Sim City to adopt self-driving vehicles, since apparently, they are all the craze in the real world. \n",
        "\n",
        "However, the people are worried that accidents caused by these cars would significantly increase the computational resources used by Sim City due to an increased respawn rate. Therefore, the good people of Sim City need **you** to develop an algorithm that can reliably detect and track all relevant objects around the vehicles.\n",
        "\n",
        "## **Basics**\n",
        "\n",
        "As mentioned before, your task is to develop an algorithm that can perform detection, tracking and segmentation tasks on synthetic images created using the [CARLA simulator](https://carla.org/). There are seven videos in total, all annotated with the correct results for most tasks. \n",
        "\n",
        "Your job is to develop algorithms that attempt to find the correct results for all images and then compare the results of your method with the correct answers. From this comparison you can calculate the average error or the average accuracy of your method. Since object detection in autonomous driving settings is a real-time task, you also need to evaluate the speed of your algorithm.\n",
        "\n",
        "## The setting\n",
        "\n",
        "The videos in the provided dataset are saved frame-by-frame, meaning for every frame your have access to the following data:\n",
        "\n",
        "* **Inputs:**\n",
        "    1. RGB frame (located in \"carla_images/rgb/[video_index]/[frame_number].jpg\" )\n",
        "    2. Depth frame (located in \"carla_images/depth/[video_index]/[frame_number].png\" ) This frame is the same size az the RGB frame, but contains the distance of the pixels from the camera in cm.\n",
        "    3. The example below contains the camera matrix values that you can use for converting [x, y, depth] points to 3D coordinates. Look up the pinhole camera equations below for help.\n",
        "* **Outputs:**\n",
        "    1. Freespace image (located in \"carla_images/seg/[video_index]/fs_[frame_number].png\" ) This is a binary image, were all the road pixels are 1, the rest is 0.\n",
        "    2. Semantic segmentation image (located in \"carla_images/seg/[video_index]/[frame_number].png\" ) A color image, showing the semantic label of each image. To use this with deep neural networks, first it has to be converted into a format, where the pixels are the semantic labels, not colors. This means the pixel values have to correspond to the specific label values that the given neural network uses.\n",
        "    3. Bounding box annotations (located in \"carla_images/annotation/[video_index]/[frame_number]_.txt\" ) This is a text file, where every row contains a detectable object (detectable objects are 0:cars, 1:trucks, 2:motorcycles, 3:bicycles, 4:pedestrians). The values of the detection are as follows: [class_index, BB_x, BB_y, BB_w, BB_h, BB3D_x1, BB3D_x2, BB3D_y1, BB3D_y2, BB3D_z1, BB3D_z2]. Below, you can find an example using these values.\n",
        "    4. The self-motion of the vehicle (located in \"carla_images/annotation/[video_index]/[frame_number]_.npy\" ) A binary file containing the matrix describing the 6DOF rigid transformation of the car relative to its position in the previous frame.\n",
        "\n",
        "## Tasks\n",
        "\n",
        "Using the datasets provided, you have to perform the following tasks:\n",
        "\n",
        "1. **2D Object Detection:** This task can be done with or without neural networks. You simply have to detect all 5 object types, provide accurate bounding boxes and class labels. You can initially use a pre-trained neural net, but for really great results it is recommended that you fine-tune using your own data (don't forget to do a train-validation split). You can also try and enhance the network performance by adding depth as an extra channel (note: this is difficult).\n",
        "\n",
        "2. **3D Object Detection:** This tasks has to be done **without** neural nets. Use the results of the 2D tasks (if not completed yet, you can use the correct outputs in the meanwhile) to compute the object locations in 3D relative to the car. Also try and track the objects on multiple frames and try to determine their velocity.\n",
        "\n",
        "3. **Semantic Segmentation:** Use a neural network to perform semantic segmentation on the RGB images. You can initially use a pre-trained network, but it is also recommended that you fine-tune using your own data, just like in the first task. Similarly, you can add the depth image as an extra feature either as an input channel, or as an input to the last layer (note: this is considerably easier to do here than in the first case).\n",
        "\n",
        "4. **Freespace Segmentation:** Use traditional methods (meaning you **can't** use neural nets here) to find pixels belonging to the road. Note, that the car is always in a fixed position and orientation relative to the ground plane, so this task is relatively easy to do using simply 3D geometry (simplified RANSAC-like methods).\n",
        "\n",
        "**Important**\n",
        "\n",
        "Each of the tasks described here is pretty hard, meaning you won't be able to do all of them perfectly. So your job is to do as many of these as you can, as well as you can.\n",
        "\n",
        "## Evaluation\n",
        "\n",
        "Your job is also to evaluate the reliability of your own algorithms. Here are some tips:\n",
        "\n",
        "1. If your train/fine-tune methods, make sure you always use a train-validation split. There are 9 videos in total, so 7-2 or 6-3 is reasonable. The individual videos are under different conditions (day/night, sunshine/rain, etc.), so make your both sets include a wide range of conditions.\n",
        "2. To measure the accuracy of your predicted 2D or 3D bounding boxes, the IoU (Intersection over Union) metric is recommended.\n",
        "3. A detection is accurate if the IoU is high enough and a class label is correct. To measure the performance of 2D detection, there are several useful metrics: Precision, Recall, F1-Score and mAP (mean Average Precision).\n",
        "4. For the segmentation-like tasks, pixel accuracy is the simplest metric (the % of pixels classified correctly), but it is not very good. I recommend that you use the IoU metric (first IoU values are computed for every class, and then averaged).\n",
        "5. For evaluating the speed of the methods, you can use the average time for processing a single frame. If you use tricks, where you only do certain computations for the first frame, then you can exclude the first frame from the average.\n",
        "\n",
        "## **Submission and Presentation**\n",
        "\n",
        "In the retake week (23.-27. May) there will be a special session, where the teams **give a short (10 minutes) presentation** about the work they completed. The presentation should focus on the method used and the results achieved. The teams will also have to **submit their code and a short (10-15 page) report** by the end of the retake week. \n",
        "\n",
        "The offered grade will be decided by a panel of lecturers involved in the course after hearing the presentation and inspecting the code and the report. Note, that in the case of a very low-quality submission, we may decide not to give an offered grade (this means you will have to take the final exam).\n",
        "\n",
        "Truly high quality homeworks can be carried on as individual research subjects for the Students' Scientific Conference (TDK).\n",
        "\n",
        "## Rules\n",
        "\n",
        "Here are some important rules and guidelines you have to follow:\n",
        "\n",
        "*   This work is to be done in groups of 4 people. You can do it with less if you feel confident, but not more.\n",
        "*   Forming/finding a group is your job. Once you have one, 1 person from the group should write me a message on teams with the names and Neptun codes of the members.\n",
        "*   You can opt out of the homework later. In this case you will need to take the midterm exam. If you signed up for the homework and then decide to opt out, let me know ASAP.\n",
        "\n",
        "## So, how should we do this?\n",
        "\n",
        "So, how can you do this homework, especially if you haven't done things like this before? Here are a few tips:\n",
        "\n",
        "### Environment\n",
        "\n",
        "For development IDE the easiest is to just use Google Colab. To do this you just have to solve the homework inside this notebook. This is the simplest solution, although it has one drawback: the Colab notebook has limited debugging capabilities.\n",
        "\n",
        "If you want something more powerful, I recommend the [PyCharm](https://www.jetbrains.com/pycharm/) IDE, which is a free and pretty powerful Python development tool.\n",
        "\n",
        "If you are planning to use PyCharm on Windows, you need to install a Python distribution, since Windows still doesn't come with one (it's 20 effing 22, Microsoft!). I recommend [Anaconda](https://www.anaconda.com/distribution/). Make sure you use Python 3.x and not 2.7.\n",
        "\n",
        "[Here's a tutorial on how to set it up.](https://www.youtube.com/watch?v=e53lRPmWrMI)\n",
        "\n",
        "### Collaboration within the team\n",
        "\n",
        "Since I would strongly discourage teams to collaborate physically in the current situation, I'd like to recommend some methods for remote collaboration.\n",
        "\n",
        "* First of all, use git or a similar version control tool to handle multiple team members working on the same project. \n",
        "* I strongly recommend creating a private repository for your homework on [Github](https://github.com/) (since you can add exactly 3 collaborators - including you that's a 4-person team). There, you can also create issues and other nice-to-have features to track your development. Getting some experience with version control is an absolute must for any engineer anyways.\n",
        "\n",
        "Here's a tutorial for git for those who never used something like this before.\n",
        "\n",
        "To use git from a GUI, I recommend [SmartGit](https://www.syntevo.com/smartgit/) or [Git Extensions](http://gitextensions.github.io/).\n",
        "\n",
        "**ProTip:** If you use a Colab notebook, make sure to clear the output cells (especially figures and images) before you commit. Otherwise you'll litter in your repository.\n",
        "\n",
        "[Here is an introduction to git](https://www.freecodecamp.org/news/learn-the-basics-of-git-in-under-10-minutes-da548267cc91/)\n",
        "\n",
        "### Further resources\n",
        "\n",
        "As this course uses the Python language, I highly recommend that you also use this language to do your homework. Here are some resources to get you started (Note: the practicals will also provide you with many of the basics, but they are still a few weeks away):\n",
        "\n",
        "[Python tutorials](https://docs.python.org/3/tutorial/)\n",
        "\n",
        "OpenCV: For basic computer vision and image processing\n",
        "\n",
        "[OpenCV tutorials](https://opencv-python-tutroals.readthedocs.io/en/latest/py_tutorials/py_tutorials.html)\n",
        "\n",
        "PyTorch: For deep learning\n",
        "\n",
        "[PyTorch tutorials](https://pytorch.org/tutorials/)\n",
        "\n",
        "\n"
      ]
    },
    {
      "cell_type": "markdown",
      "metadata": {
        "id": "UgWfyt5SdmUn"
      },
      "source": [
        "# Solution\n",
        "## Download dataset"
      ]
    },
    {
      "cell_type": "code",
      "execution_count": null,
      "metadata": {
        "id": "JpJi3x8AZtEV",
        "colab": {
          "base_uri": "https://localhost:8080/"
        },
        "outputId": "414971e4-077f-42b2-ba92-933a6b9ab120"
      },
      "outputs": [
        {
          "output_type": "stream",
          "name": "stdout",
          "text": [
            "--2022-05-25 07:03:57--  https://deeplearning.iit.bme.hu/Public/Carla_Videos.zip\n",
            "Resolving deeplearning.iit.bme.hu (deeplearning.iit.bme.hu)... 152.66.243.112\n",
            "Connecting to deeplearning.iit.bme.hu (deeplearning.iit.bme.hu)|152.66.243.112|:443... connected.\n",
            "WARNING: cannot verify deeplearning.iit.bme.hu's certificate, issued by ‘CN=GEANT OV RSA CA 4,O=GEANT Vereniging,C=NL’:\n",
            "  Unable to locally verify the issuer's authority.\n",
            "HTTP request sent, awaiting response... 200 OK\n",
            "Length: 547880046 (522M) [application/zip]\n",
            "Saving to: ‘Carla_Videos.zip’\n",
            "\n",
            "Carla_Videos.zip    100%[===================>] 522.50M  22.2MB/s    in 24s     \n",
            "\n",
            "2022-05-25 07:04:22 (21.6 MB/s) - ‘Carla_Videos.zip’ saved [547880046/547880046]\n",
            "\n"
          ]
        }
      ],
      "source": [
        "# Homework dataset\n",
        "!wget https://deeplearning.iit.bme.hu/Public/Carla_Videos.zip --no-check-certificate\n",
        "!unzip -qq Carla_Videos.zip\n",
        "!rm Carla_Videos.zip"
      ]
    },
    {
      "cell_type": "markdown",
      "metadata": {
        "id": "OSTAlH8td3eD"
      },
      "source": [
        "## Folder example\n",
        "\n",
        "Get all subfolders in a directory\n",
        "\n",
        "```\n",
        "import os\n",
        "myFolderList = [f.path for f in os.scandir(path) if f.is_dir()]\n",
        "```\n",
        "\n",
        "Get all files with extension in a directory\n",
        "\n",
        "```\n",
        "import glob\n",
        "import re\n",
        "\n",
        "def sorted_nicely( l ):\n",
        "    \"\"\" Sort the given iterable in the way that humans expect.\"\"\"\n",
        "    convert = lambda text: int(text) if text.isdigit() else text\n",
        "    alphanum_key = lambda key: [ convert(c) for c in re.split('([0-9]+)', key) ]\n",
        "    return sorted(l, key = alphanum_key)\n",
        "\n",
        "names = sorted_nicely(glob.glob1(path, \"*.extension\"))\n",
        "```\n"
      ]
    },
    {
      "cell_type": "markdown",
      "metadata": {
        "id": "xHsh_dbNFQwR"
      },
      "source": [
        "## Pinhole camera equations\n",
        "\n",
        "This small example shows the relationship between the world coordinates $[x, y, z]$ and the projected image coordinates $[u, v]$ depending on the values in the camera matrix $A$.\n",
        "\n",
        "$$u = f_x\\frac{x}{z} + p_x$$\n",
        "\n",
        "$$v = f_y\\frac{-y}{z} + p_y$$\n",
        "\n",
        "$$A = \\begin{bmatrix} f_x & 0 & p_x \\\\ 0 & f_y & p_y \\\\ 0 & 0 & 1 \\end{bmatrix}$$"
      ]
    },
    {
      "cell_type": "markdown",
      "metadata": {
        "id": "aVZdwqSb7dyZ"
      },
      "source": [
        "### Display the first images"
      ]
    },
    {
      "cell_type": "code",
      "execution_count": null,
      "metadata": {
        "id": "qNjLlbEl7hv_"
      },
      "outputs": [],
      "source": [
        "import pickle\n",
        "import cv2\n",
        "import matplotlib.pyplot as plt\n",
        "import numpy as np\n",
        "#This way it doesn't try to open a window un the GUI - works in python notebook\n",
        "%matplotlib inline\n",
        "\n",
        "cam_mtx = np.array([\n",
        "    [358.5, 0.0,   512.0],\n",
        "    [0.0,   358.5, 256.0],\n",
        "    [0.0,   0.0,   1.0],\n",
        "    \n",
        "])\n",
        "\n",
        "colors = [(0,0,255), (0,255,0), (255,0,255), (0,255,255), (255,0,0)]\n",
        "classNames = [\"Car\", \"Truck\", \"Motorcycle\", \"Bicycle\", \"Pedestrian\"]\n",
        "\n",
        "'''\n",
        "The key element of this dictionary is the semantic ID of a class you can use with\n",
        "neural networks, while the value is the RGB color used in the images.\n",
        "'''\n",
        "semSegClasses = {  \n",
        "     0: [0, 0, 0],         # None \n",
        "     1: [70, 70, 70],      # Buildings \n",
        "     2: [190, 153, 153],   # Fences \n",
        "     3: [72, 0, 90],       # Other \n",
        "     4: [220, 20, 60],     # Pedestrians \n",
        "     5: [153, 153, 153],   # Poles \n",
        "     6: [157, 234, 50],    # RoadLines \n",
        "     7: [128, 64, 128],    # Roads \n",
        "     8: [244, 35, 232],    # Sidewalks \n",
        "     9: [107, 142, 35],    # Vegetation \n",
        "     10: [0, 0, 255],      # Vehicles \n",
        "     11: [102, 102, 156],  # Walls \n",
        "     12: [220, 220, 0]     # TrafficSigns \n",
        " } \n",
        "\n",
        "def drawBBs(BBs, img):\n",
        "    H, W = img.shape[:2]\n",
        "    for BB in BBs:\n",
        "        u = BB[1]*W\n",
        "        v = BB[2]*H\n",
        "        w = BB[3]*W\n",
        "        h = BB[4]*H\n",
        "        c = int(BB[0])\n",
        "        x_min = BB[5]\n",
        "        x_max = BB[6]\n",
        "        y_min = BB[5]\n",
        "        y_max = BB[6]\n",
        "        z_min = BB[5]\n",
        "        z_max = BB[6]\n",
        "        s = (int(u - w // 2), int(v - h // 2))\n",
        "        e = (int(u + w // 2), int(v + h // 2))\n",
        "        cv2.rectangle(img, s, e, colors[c], 1)\n",
        "        tl = (s[0], s[1]+15)\n",
        "        bl = (s[0], e[1]-5)\n",
        "        cv2.putText(img,classNames[c],tl,cv2.FONT_HERSHEY_COMPLEX_SMALL,0.75,colors[c])\n",
        "        #coords = \"(%.2f, %.2f, %.2f, %.2f, %.2f, %.2f)\" % (x_min, x_max, y_min, y_max, z_min, z_max)\n",
        "        #cv2.putText(img,coords,bl,cv2.FONT_HERSHEY_COMPLEX_SMALL,0.65,colors[c])\n",
        "    \n",
        "    return img\n",
        "\n",
        "# Read images\n",
        "img = cv2.imread(\"carla_images/rgb/000/00.jpg\")\n",
        "depth = cv2.imread(\"carla_images/depth/000/00.png\", -1)\n",
        "seg = cv2.imread(\"carla_images/seg/000/00.png\")\n",
        "fs = cv2.imread(\"carla_images/seg/000/fs_00.png\", -1)\n",
        "\n",
        "# Read annotations\n",
        "labels = np.loadtxt(\"carla_images/annotation/000/00_.txt\")\n",
        "pos = np.load(\"carla_images/annotation/000/00_.npy\").reshape((4,4))\n",
        "\n",
        "# Visualization\n",
        "img = drawBBs(labels, img)\n",
        "img_rgb = cv2.cvtColor(img,cv2.COLOR_BGR2RGB)\n",
        "seg_rgb = cv2.cvtColor(seg,cv2.COLOR_BGR2RGB)\n",
        "\n",
        "# Figure with subplots\n",
        "plt.figure(figsize=(30,15))\n",
        "plt.subplot(2,2,1)\n",
        "plt.imshow(img_rgb)\n",
        "plt.subplot(2,2,2)\n",
        "plt.imshow(depth,cmap='gray')\n",
        "plt.subplot(2,2,3)\n",
        "plt.imshow(seg_rgb)\n",
        "plt.subplot(2,2,4)\n",
        "plt.imshow(fs,cmap='gray')"
      ]
    },
    {
      "cell_type": "markdown",
      "metadata": {
        "id": "hEvK7-MKLAau"
      },
      "source": [
        "# Data Get and Convert "
      ]
    },
    {
      "cell_type": "markdown",
      "metadata": {
        "id": "Kph_o1-xKv6Z"
      },
      "source": [
        "Sorted Nicely method"
      ]
    },
    {
      "cell_type": "code",
      "execution_count": null,
      "metadata": {
        "id": "2CRqDs0zKtU5"
      },
      "outputs": [],
      "source": [
        "import glob\n",
        "import re\n",
        "\n",
        "def sorted_nicely( l ):\n",
        "    \"\"\" Sort the given iterable in the way that humans expect.\"\"\"\n",
        "    convert = lambda text: int(text) if text.isdigit() else text\n",
        "    alphanum_key = lambda key: [ convert(c) for c in re.split('([0-9]+)', key) ]\n",
        "    return sorted(l, key = alphanum_key)\n",
        "\n",
        "names = sorted_nicely(glob.glob1('./carla_images/rgb/000', \"*.jpg\"))"
      ]
    },
    {
      "cell_type": "markdown",
      "metadata": {
        "id": "uEJrPG1lKt3s"
      },
      "source": [
        "Sort in to different folders"
      ]
    },
    {
      "cell_type": "code",
      "execution_count": null,
      "metadata": {
        "id": "oHHLk7Dhxy0X"
      },
      "outputs": [],
      "source": [
        "\n",
        "\n",
        "from tqdm import tqdm\n",
        "import shutil\n",
        "ratio=0.8\n",
        "input_train_files=[]\n",
        "input_valid_files=[]\n",
        "\n",
        "output_train_txt=[]\n",
        "output_valid_txt=[]\n",
        "\n",
        "output_train_files=[]\n",
        "output_valid_files=[]\n",
        "\n",
        "depth_train_files=[]\n",
        "depth_valid_files=[]\n",
        "\n",
        "for i in range(8):\n",
        "  input_path=f'./carla_images/rgb/00{i}'\n",
        "  output_path=f'./carla_images/seg/00{i}'\n",
        "  depth_path=f'./carla_images/depth/00{i}'\n",
        "  output_txt_path=f'./carla_images/annotation/00{i}'\n",
        "  input_names = sorted_nicely(glob.glob1(input_path, \"*.jpg\"))\n",
        "  output_names = sorted_nicely(glob.glob1(output_path, \"*.png\"))\n",
        "  depth_names = sorted_nicely(glob.glob1(depth_path, \"*.png\"))\n",
        "  #shutil.copyfile('carla_images/annotation/000/00_.txt','carla_images/second.txt')\n",
        "  output_txt_names=sorted_nicely(glob.glob1(output_txt_path,\"*.txt\"))\n",
        "\n",
        "  for c in tqdm(range(len(input_names))):\n",
        "    if(c>ratio*len(input_names)):\n",
        "      input_valid_files.append(f'{input_path}/{input_names[c]}')\n",
        "      output_valid_files.append(f'{output_path}/{output_names[c]}')\n",
        "      output_valid_txt.append(f'{output_txt_path}/{output_txt_names[c]}')\n",
        "      depth_valid_files.append(f'{depth_path}/{depth_names[c]}')\n",
        "    else:\n",
        "      input_train_files.append(f'{input_path}/{input_names[c]}')\n",
        "      output_train_txt.append(f'{output_txt_path}/{output_txt_names[c]}')\n",
        "      output_train_files.append(f'{output_path}/{output_names[c]}')\n",
        "      depth_train_files.append(f'{depth_path}/{depth_names[c]}')"
      ]
    },
    {
      "cell_type": "markdown",
      "metadata": {
        "id": "3JydlZg3MPwC"
      },
      "source": [
        "Cut the training data unused section"
      ]
    },
    {
      "cell_type": "code",
      "execution_count": null,
      "metadata": {
        "id": "58TWUoioPxeD"
      },
      "outputs": [],
      "source": [
        "import string\n",
        "\n",
        "def cuttxt(path,savepath):\n",
        "  my_file=open(path)\n",
        "  string=my_file.readlines()\n",
        "  for k in range(len(string)):\n",
        "    string_split=string[k].split(\" \")\n",
        "    length=len(string_split)\n",
        "    j=0\n",
        "    for i in range(length):\n",
        "      if (i%12>4):\n",
        "        string_split.pop(j)\n",
        "        j=j-1\n",
        "      j=j+1\n",
        "    string_split.append('\\n')\n",
        "    myseparator=\" \"\n",
        "    string[k]=myseparator.join(string_split)\n",
        "    \n",
        "  my_file.close()\n",
        "  value=0\n",
        "  if(len(string)!=0):\n",
        "    my_file = open(savepath, \"w\")\n",
        "    for k in range(len(string)):\n",
        "      my_file.write(string[k])\n",
        "    my_file.close()\n",
        "    value=1\n",
        "  return value\n",
        "\n"
      ]
    },
    {
      "cell_type": "code",
      "execution_count": null,
      "metadata": {
        "id": "361gpG8WLzLV"
      },
      "outputs": [],
      "source": [
        "!mkdir 'train' \n",
        "!mkdir 'valid' \n",
        "!mkdir 'train/images'\n",
        "!mkdir 'valid/images'\n",
        "!mkdir 'train/labels'\n",
        "!mkdir 'valid/labels'\n",
        "\n",
        "import shutil\n",
        "import cv2\n",
        "from tqdm import tqdm\n",
        "import numpy as np\n",
        "new_mask=np.zeros((128, 128, 1))\n",
        "for (i,file) in tqdm(enumerate(input_train_files)):\n",
        "  img=cv2.cvtColor(cv2.imread(file), cv2.COLOR_BGR2RGB)\n",
        "  \n",
        "  \n",
        "\n",
        " \n",
        "  \n",
        "  #shutil.copyfile(output_train_txt[i],f'train/labels/im{i}.txt')\n",
        "  if(cuttxt(output_train_txt[i],f'train/labels/im{i}.txt')==1):\n",
        "    cv2.imwrite(f'train/images/im{i}.jpg', img)\n",
        "\n",
        "\n",
        "   \n",
        "for (i,file) in tqdm(enumerate(input_valid_files)):\n",
        "  img=cv2.cvtColor(cv2.imread(file), cv2.COLOR_BGR2RGB)\n",
        " \n",
        "  \n",
        "  #shutil.copyfile(output_valid_txt[i],f'valid/labels/im{i}.txt')\n",
        "  if(cuttxt(output_valid_txt[i],f'valid/labels/im{i}.txt')==1):\n",
        "    cv2.imwrite(f'valid/images/im{i}.jpg', img)\n",
        "    "
      ]
    },
    {
      "cell_type": "markdown",
      "metadata": {
        "id": "S4Nbo_FGOoky"
      },
      "source": [
        "# Just yolo"
      ]
    },
    {
      "cell_type": "markdown",
      "metadata": {
        "id": "raXPAw6eNxqM"
      },
      "source": [
        "Cloning the yolo v5, install depedencies"
      ]
    },
    {
      "cell_type": "code",
      "execution_count": null,
      "metadata": {
        "id": "vEHtuxU7OssA"
      },
      "outputs": [],
      "source": [
        "! git clone https://github.com/ultralytics/yolov5  # clone\n",
        "%cd yolov5/\n",
        "!pip install -r requirements.txt  # install"
      ]
    },
    {
      "cell_type": "markdown",
      "source": [
        "Count the images"
      ],
      "metadata": {
        "id": "CUUH6xpcMN0P"
      }
    },
    {
      "cell_type": "code",
      "execution_count": null,
      "metadata": {
        "id": "IRmEaZ34Nu8G"
      },
      "outputs": [],
      "source": [
        "import os, os.path\n",
        "\n",
        "# simple version for working with CWD)\n",
        "\n",
        "# path joining version for other paths\n",
        "DIR = '/content/valid/images'\n",
        "print(len([name for name in os.listdir(DIR) if os.path.isfile(os.path.join(DIR, name))]))\n",
        "DIR = '/content/train/images'\n",
        "print(len([name for name in os.listdir(DIR) if os.path.isfile(os.path.join(DIR, name))]))"
      ]
    },
    {
      "cell_type": "markdown",
      "source": [
        "Train the neuarl network with own data"
      ],
      "metadata": {
        "id": "oBH-MjvQMROT"
      }
    },
    {
      "cell_type": "code",
      "execution_count": null,
      "metadata": {
        "id": "rYqb5AV-WZ7t"
      },
      "outputs": [],
      "source": [
        "!python train.py --img 979 --batch 32 --epochs 25 --data coco128.yaml --weights yolov5s.pt"
      ]
    },
    {
      "cell_type": "markdown",
      "source": [
        "Wandb install"
      ],
      "metadata": {
        "id": "IkTloT6cM9im"
      }
    },
    {
      "cell_type": "code",
      "execution_count": null,
      "metadata": {
        "id": "sD_Z3VRkQkeA"
      },
      "outputs": [],
      "source": [
        "! pip install wandb"
      ]
    },
    {
      "cell_type": "code",
      "execution_count": null,
      "metadata": {
        "id": "6EgiM_JRZBOM"
      },
      "outputs": [],
      "source": [
        "%load_ext tensorboard\n",
        "%tensorboard --logdir runs/train"
      ]
    },
    {
      "cell_type": "code",
      "source": [
        "!python val.py --weights /content/yolov5/runs/train/exp/weights/best.pt  --img 237 --iou 0.45 "
      ],
      "metadata": {
        "id": "7LijOECeJaPl"
      },
      "execution_count": null,
      "outputs": []
    },
    {
      "cell_type": "code",
      "source": [
        "!python detect.py --weights /content/yolov5/runs/train/exp/weights/best.pt --img 237 --source /content/carla_images/rgb/000/ --save-txt --save-conf "
      ],
      "metadata": {
        "id": "HRQaj0y5jQuI"
      },
      "execution_count": null,
      "outputs": []
    },
    {
      "cell_type": "code",
      "source": [
        "!python export.py --weights /content/yolov5/runs/train/exp/weights/best.pt"
      ],
      "metadata": {
        "id": "al8P3VcBs7zw"
      },
      "execution_count": null,
      "outputs": []
    },
    {
      "cell_type": "markdown",
      "metadata": {
        "id": "MK1eWtE-OjNP"
      },
      "source": [
        "# Balázs féle-saját train írása- később kiderült hogy nem kell\n"
      ]
    },
    {
      "cell_type": "markdown",
      "source": [
        ""
      ],
      "metadata": {
        "id": "WlQt25SwGvfm"
      }
    },
    {
      "cell_type": "markdown",
      "metadata": {
        "id": "nIvdhBxNP6fK"
      },
      "source": [
        "Dataset class"
      ]
    },
    {
      "cell_type": "code",
      "execution_count": null,
      "metadata": {
        "id": "IiMf3zxZP6uX"
      },
      "outputs": [],
      "source": [
        "import os, os.path\n",
        "\n",
        "class Boxing_Dataset(object):\n",
        "    def __init__(self,root_dir, transform=None):\n",
        "      self.transform=transform\n",
        "      self.root_dir=root_dir\n",
        "    def __getitem__(self, index):\n",
        "        img=cv2.imread(f'{self.root_dir}/input/{index}.jpg')\n",
        "        labels = np.loadtxt(f'{self.root_dir}/txt/{index}.txt')\n",
        "        return (img,labels)\n",
        "\n",
        "\n",
        "    def __len__(self):\n",
        "        DIR = f'{self.root_dir}/input'\n",
        "        length=len([name for name in os.listdir(DIR) if os.path.isfile(os.path.join(DIR, name))])\n",
        "        return length"
      ]
    },
    {
      "cell_type": "code",
      "execution_count": null,
      "metadata": {
        "id": "pHb9p_fivumb"
      },
      "outputs": [],
      "source": [
        "class Rescale(object):\n",
        "    \"\"\"Rescale the image in a sample to a given size.\n",
        "\n",
        "    Args:\n",
        "        output_size (tuple or int): Desired output size. If tuple, output is\n",
        "            matched to output_size. If int, smaller of image edges is matched\n",
        "            to output_size keeping aspect ratio the same.\n",
        "    \"\"\"\n",
        "\n",
        "    def __init__(self, output_size):\n",
        "        assert isinstance(output_size, (int, tuple))\n",
        "        self.output_size = output_size\n",
        "\n",
        "    def __call__(self, sample):\n",
        "        image, landmarks = sample['image'], sample['landmarks']\n",
        "\n",
        "        h, w = image.shape[:2]\n",
        "        if isinstance(self.output_size, int):\n",
        "            if h > w:\n",
        "                new_h, new_w = self.output_size * h / w, self.output_size\n",
        "            else:\n",
        "                new_h, new_w = self.output_size, self.output_size * w / h\n",
        "        else:\n",
        "            new_h, new_w = self.output_size\n",
        "\n",
        "        new_h, new_w = int(new_h), int(new_w)\n",
        "\n",
        "        img = transform.resize(image, (new_h, new_w))\n",
        "\n",
        "        # h and w are swapped for landmarks because for images,\n",
        "        # x and y axes are axis 1 and 0 respectively\n",
        "        landmarks = landmarks * [new_w / w, new_h / h]\n",
        "\n",
        "        return {'image': img, 'landmarks': landmarks}\n",
        "\n",
        "\n",
        "class RandomCrop(object):\n",
        "    \"\"\"Crop randomly the image in a sample.\n",
        "\n",
        "    Args:\n",
        "        output_size (tuple or int): Desired output size. If int, square crop\n",
        "            is made.\n",
        "    \"\"\"\n",
        "\n",
        "    def __init__(self, output_size):\n",
        "        assert isinstance(output_size, (int, tuple))\n",
        "        if isinstance(output_size, int):\n",
        "            self.output_size = (output_size, output_size)\n",
        "        else:\n",
        "            assert len(output_size) == 2\n",
        "            self.output_size = output_size\n",
        "\n",
        "    def __call__(self, sample):\n",
        "        image, landmarks = sample['image'], sample['landmarks']\n",
        "\n",
        "        h, w = image.shape[:2]\n",
        "        new_h, new_w = self.output_size\n",
        "\n",
        "        top = np.random.randint(0, h - new_h)\n",
        "        left = np.random.randint(0, w - new_w)\n",
        "\n",
        "        image = image[top: top + new_h,\n",
        "                      left: left + new_w]\n",
        "\n",
        "        landmarks = landmarks - [left, top]\n",
        "\n",
        "        return {'image': image, 'landmarks': landmarks}\n",
        "\n",
        "class ToTensor(object):\n",
        "    \"\"\"Convert ndarrays in sample to Tensors.\"\"\"\n",
        "\n",
        "    def __call__(self, sample):\n",
        "        image, landmarks = sample['image'], sample['landmarks']\n",
        "\n",
        "        # swap color axis because\n",
        "        # numpy image: H x W x C\n",
        "        # torch image: C x H x W\n",
        "        image = image.transpose((2, 0, 1))\n",
        "        return {'image': torch.from_numpy(image),\n",
        "                'landmarks': torch.from_numpy(landmarks)}"
      ]
    },
    {
      "cell_type": "code",
      "execution_count": null,
      "metadata": {
        "id": "Mormxid0BOlG"
      },
      "outputs": [],
      "source": [
        "from torchvision import transforms\n",
        "transform = transforms.Compose([\n",
        "    # Flips horizontally with p=0.5\n",
        "    transforms.RandomHorizontalFlip(),\n",
        "    # Random perturbance of brightness, contrast and color\n",
        "    transforms.ColorJitter(brightness=0.3,contrast=0.3,saturation=0.3,hue=0.2),\n",
        "    transforms.ToTensor(),\n",
        "    transforms.Normalize((0.49139968, 0.48215827, 0.44653124),\n",
        "                         (0.24703233, 0.24348505, 0.26158768))\n",
        "])"
      ]
    },
    {
      "cell_type": "markdown",
      "metadata": {
        "id": "JXu3qMB9uopt"
      },
      "source": [
        "Set up train, test loader"
      ]
    },
    {
      "cell_type": "code",
      "execution_count": null,
      "metadata": {
        "colab": {
          "base_uri": "https://localhost:8080/",
          "height": 363
        },
        "id": "spSHZA_muNKZ",
        "outputId": "e9aed09a-ba80-49b7-967c-03322c791e2c"
      },
      "outputs": [
        {
          "output_type": "error",
          "ename": "FileNotFoundError",
          "evalue": "ignored",
          "traceback": [
            "\u001b[0;31m---------------------------------------------------------------------------\u001b[0m",
            "\u001b[0;31mFileNotFoundError\u001b[0m                         Traceback (most recent call last)",
            "\u001b[0;32m<ipython-input-18-d09c50e68889>\u001b[0m in \u001b[0;36m<module>\u001b[0;34m()\u001b[0m\n\u001b[1;32m      4\u001b[0m \u001b[0mtest_data\u001b[0m \u001b[0;34m=\u001b[0m \u001b[0mBoxing_Dataset\u001b[0m\u001b[0;34m(\u001b[0m\u001b[0mroot_dir\u001b[0m\u001b[0;34m=\u001b[0m\u001b[0;34m'/content/test'\u001b[0m\u001b[0;34m,\u001b[0m\u001b[0mtransform\u001b[0m\u001b[0;34m=\u001b[0m\u001b[0mToTensor\u001b[0m\u001b[0;34m(\u001b[0m\u001b[0;34m)\u001b[0m\u001b[0;34m)\u001b[0m\u001b[0;34m\u001b[0m\u001b[0;34m\u001b[0m\u001b[0m\n\u001b[1;32m      5\u001b[0m \u001b[0;34m\u001b[0m\u001b[0m\n\u001b[0;32m----> 6\u001b[0;31m \u001b[0mtrain_loader\u001b[0m\u001b[0;34m=\u001b[0m\u001b[0mDataLoader\u001b[0m\u001b[0;34m(\u001b[0m\u001b[0mtraining_data\u001b[0m\u001b[0;34m,\u001b[0m\u001b[0mbatch_size\u001b[0m\u001b[0;34m=\u001b[0m\u001b[0;36m64\u001b[0m\u001b[0;34m,\u001b[0m \u001b[0mshuffle\u001b[0m\u001b[0;34m=\u001b[0m\u001b[0;32mTrue\u001b[0m\u001b[0;34m)\u001b[0m\u001b[0;34m\u001b[0m\u001b[0;34m\u001b[0m\u001b[0m\n\u001b[0m\u001b[1;32m      7\u001b[0m \u001b[0mtest_loader\u001b[0m\u001b[0;34m=\u001b[0m\u001b[0mDataLoader\u001b[0m\u001b[0;34m(\u001b[0m\u001b[0mtest_data\u001b[0m\u001b[0;34m,\u001b[0m\u001b[0mbatch_size\u001b[0m\u001b[0;34m=\u001b[0m\u001b[0;36m64\u001b[0m\u001b[0;34m,\u001b[0m \u001b[0mshuffle\u001b[0m\u001b[0;34m=\u001b[0m\u001b[0;32mFalse\u001b[0m\u001b[0;34m)\u001b[0m\u001b[0;34m\u001b[0m\u001b[0;34m\u001b[0m\u001b[0m\n",
            "\u001b[0;32m/usr/local/lib/python3.7/dist-packages/torch/utils/data/dataloader.py\u001b[0m in \u001b[0;36m__init__\u001b[0;34m(self, dataset, batch_size, shuffle, sampler, batch_sampler, num_workers, collate_fn, pin_memory, drop_last, timeout, worker_init_fn, multiprocessing_context, generator, prefetch_factor, persistent_workers)\u001b[0m\n\u001b[1;32m    275\u001b[0m             \u001b[0;32melse\u001b[0m\u001b[0;34m:\u001b[0m  \u001b[0;31m# map-style\u001b[0m\u001b[0;34m\u001b[0m\u001b[0;34m\u001b[0m\u001b[0m\n\u001b[1;32m    276\u001b[0m                 \u001b[0;32mif\u001b[0m \u001b[0mshuffle\u001b[0m\u001b[0;34m:\u001b[0m\u001b[0;34m\u001b[0m\u001b[0;34m\u001b[0m\u001b[0m\n\u001b[0;32m--> 277\u001b[0;31m                     \u001b[0msampler\u001b[0m \u001b[0;34m=\u001b[0m \u001b[0mRandomSampler\u001b[0m\u001b[0;34m(\u001b[0m\u001b[0mdataset\u001b[0m\u001b[0;34m,\u001b[0m \u001b[0mgenerator\u001b[0m\u001b[0;34m=\u001b[0m\u001b[0mgenerator\u001b[0m\u001b[0;34m)\u001b[0m  \u001b[0;31m# type: ignore[arg-type]\u001b[0m\u001b[0;34m\u001b[0m\u001b[0;34m\u001b[0m\u001b[0m\n\u001b[0m\u001b[1;32m    278\u001b[0m                 \u001b[0;32melse\u001b[0m\u001b[0;34m:\u001b[0m\u001b[0;34m\u001b[0m\u001b[0;34m\u001b[0m\u001b[0m\n\u001b[1;32m    279\u001b[0m                     \u001b[0msampler\u001b[0m \u001b[0;34m=\u001b[0m \u001b[0mSequentialSampler\u001b[0m\u001b[0;34m(\u001b[0m\u001b[0mdataset\u001b[0m\u001b[0;34m)\u001b[0m  \u001b[0;31m# type: ignore[arg-type]\u001b[0m\u001b[0;34m\u001b[0m\u001b[0;34m\u001b[0m\u001b[0m\n",
            "\u001b[0;32m/usr/local/lib/python3.7/dist-packages/torch/utils/data/sampler.py\u001b[0m in \u001b[0;36m__init__\u001b[0;34m(self, data_source, replacement, num_samples, generator)\u001b[0m\n\u001b[1;32m     94\u001b[0m                             \"replacement={}\".format(self.replacement))\n\u001b[1;32m     95\u001b[0m \u001b[0;34m\u001b[0m\u001b[0m\n\u001b[0;32m---> 96\u001b[0;31m         \u001b[0;32mif\u001b[0m \u001b[0;32mnot\u001b[0m \u001b[0misinstance\u001b[0m\u001b[0;34m(\u001b[0m\u001b[0mself\u001b[0m\u001b[0;34m.\u001b[0m\u001b[0mnum_samples\u001b[0m\u001b[0;34m,\u001b[0m \u001b[0mint\u001b[0m\u001b[0;34m)\u001b[0m \u001b[0;32mor\u001b[0m \u001b[0mself\u001b[0m\u001b[0;34m.\u001b[0m\u001b[0mnum_samples\u001b[0m \u001b[0;34m<=\u001b[0m \u001b[0;36m0\u001b[0m\u001b[0;34m:\u001b[0m\u001b[0;34m\u001b[0m\u001b[0;34m\u001b[0m\u001b[0m\n\u001b[0m\u001b[1;32m     97\u001b[0m             raise ValueError(\"num_samples should be a positive integer \"\n\u001b[1;32m     98\u001b[0m                              \"value, but got num_samples={}\".format(self.num_samples))\n",
            "\u001b[0;32m/usr/local/lib/python3.7/dist-packages/torch/utils/data/sampler.py\u001b[0m in \u001b[0;36mnum_samples\u001b[0;34m(self)\u001b[0m\n\u001b[1;32m    102\u001b[0m         \u001b[0;31m# dataset size might change at runtime\u001b[0m\u001b[0;34m\u001b[0m\u001b[0;34m\u001b[0m\u001b[0;34m\u001b[0m\u001b[0m\n\u001b[1;32m    103\u001b[0m         \u001b[0;32mif\u001b[0m \u001b[0mself\u001b[0m\u001b[0;34m.\u001b[0m\u001b[0m_num_samples\u001b[0m \u001b[0;32mis\u001b[0m \u001b[0;32mNone\u001b[0m\u001b[0;34m:\u001b[0m\u001b[0;34m\u001b[0m\u001b[0;34m\u001b[0m\u001b[0m\n\u001b[0;32m--> 104\u001b[0;31m             \u001b[0;32mreturn\u001b[0m \u001b[0mlen\u001b[0m\u001b[0;34m(\u001b[0m\u001b[0mself\u001b[0m\u001b[0;34m.\u001b[0m\u001b[0mdata_source\u001b[0m\u001b[0;34m)\u001b[0m\u001b[0;34m\u001b[0m\u001b[0;34m\u001b[0m\u001b[0m\n\u001b[0m\u001b[1;32m    105\u001b[0m         \u001b[0;32mreturn\u001b[0m \u001b[0mself\u001b[0m\u001b[0;34m.\u001b[0m\u001b[0m_num_samples\u001b[0m\u001b[0;34m\u001b[0m\u001b[0;34m\u001b[0m\u001b[0m\n\u001b[1;32m    106\u001b[0m \u001b[0;34m\u001b[0m\u001b[0m\n",
            "\u001b[0;32m<ipython-input-15-4590fed2eea0>\u001b[0m in \u001b[0;36m__len__\u001b[0;34m(self)\u001b[0m\n\u001b[1;32m     13\u001b[0m     \u001b[0;32mdef\u001b[0m \u001b[0m__len__\u001b[0m\u001b[0;34m(\u001b[0m\u001b[0mself\u001b[0m\u001b[0;34m)\u001b[0m\u001b[0;34m:\u001b[0m\u001b[0;34m\u001b[0m\u001b[0;34m\u001b[0m\u001b[0m\n\u001b[1;32m     14\u001b[0m         \u001b[0mDIR\u001b[0m \u001b[0;34m=\u001b[0m \u001b[0;34mf'{self.root_dir}/input'\u001b[0m\u001b[0;34m\u001b[0m\u001b[0;34m\u001b[0m\u001b[0m\n\u001b[0;32m---> 15\u001b[0;31m         \u001b[0mlength\u001b[0m\u001b[0;34m=\u001b[0m\u001b[0mlen\u001b[0m\u001b[0;34m(\u001b[0m\u001b[0;34m[\u001b[0m\u001b[0mname\u001b[0m \u001b[0;32mfor\u001b[0m \u001b[0mname\u001b[0m \u001b[0;32min\u001b[0m \u001b[0mos\u001b[0m\u001b[0;34m.\u001b[0m\u001b[0mlistdir\u001b[0m\u001b[0;34m(\u001b[0m\u001b[0mDIR\u001b[0m\u001b[0;34m)\u001b[0m \u001b[0;32mif\u001b[0m \u001b[0mos\u001b[0m\u001b[0;34m.\u001b[0m\u001b[0mpath\u001b[0m\u001b[0;34m.\u001b[0m\u001b[0misfile\u001b[0m\u001b[0;34m(\u001b[0m\u001b[0mos\u001b[0m\u001b[0;34m.\u001b[0m\u001b[0mpath\u001b[0m\u001b[0;34m.\u001b[0m\u001b[0mjoin\u001b[0m\u001b[0;34m(\u001b[0m\u001b[0mDIR\u001b[0m\u001b[0;34m,\u001b[0m \u001b[0mname\u001b[0m\u001b[0;34m)\u001b[0m\u001b[0;34m)\u001b[0m\u001b[0;34m]\u001b[0m\u001b[0;34m)\u001b[0m\u001b[0;34m\u001b[0m\u001b[0;34m\u001b[0m\u001b[0m\n\u001b[0m\u001b[1;32m     16\u001b[0m         \u001b[0;32mreturn\u001b[0m \u001b[0mlength\u001b[0m\u001b[0;34m\u001b[0m\u001b[0;34m\u001b[0m\u001b[0m\n",
            "\u001b[0;31mFileNotFoundError\u001b[0m: [Errno 2] No such file or directory: '/content/train/input'"
          ]
        }
      ],
      "source": [
        "\n",
        "from torch.utils.data import DataLoader\n",
        "training_data = Boxing_Dataset(root_dir='/content/train',transform=transform)\n",
        "test_data = Boxing_Dataset(root_dir='/content/test',transform=ToTensor())\n",
        "\n",
        "train_loader=DataLoader(training_data,batch_size=64, shuffle=True)\n",
        "test_loader=DataLoader(test_data,batch_size=64, shuffle=False)"
      ]
    },
    {
      "cell_type": "markdown",
      "metadata": {
        "id": "fOTJfoULdtTy"
      },
      "source": [
        "# Pretrained YOLO model import\n"
      ]
    },
    {
      "cell_type": "code",
      "execution_count": null,
      "metadata": {
        "colab": {
          "background_save": true
        },
        "id": "28EXqOnb0b-M"
      },
      "outputs": [],
      "source": [
        "\n",
        "%%bash\n",
        "pip install -qr https://raw.githubusercontent.com/ultralytics/yolov5/master/requirements.txt  # install dependencies\n"
      ]
    },
    {
      "cell_type": "code",
      "execution_count": null,
      "metadata": {
        "colab": {
          "background_save": true
        },
        "id": "8Jn2v0I0yyit"
      },
      "outputs": [],
      "source": [
        "import torch\n",
        "\n",
        "# Model\n",
        "model = torch.hub.load('ultralytics/yolov5', 'yolov5s', pretrained=True, classes=5)\n",
        "model.classes=classNames"
      ]
    },
    {
      "cell_type": "markdown",
      "metadata": {
        "id": "zv8t0hdpy_xf"
      },
      "source": [
        "# Yolo model train"
      ]
    },
    {
      "cell_type": "markdown",
      "metadata": {
        "id": "_-hSanVm8BnF"
      },
      "source": [
        "Check GPU Availibity"
      ]
    },
    {
      "cell_type": "code",
      "execution_count": null,
      "metadata": {
        "colab": {
          "background_save": true
        },
        "id": "cVw2eEQR7_7o"
      },
      "outputs": [],
      "source": [
        "haveCuda = torch.cuda.is_available()\n",
        "print(haveCuda)"
      ]
    },
    {
      "cell_type": "markdown",
      "metadata": {
        "id": "1fhEg8Y0_rQu"
      },
      "source": [
        "Create a optimizer\n"
      ]
    },
    {
      "cell_type": "code",
      "execution_count": null,
      "metadata": {
        "id": "OhbkGHvh_zo0"
      },
      "outputs": [],
      "source": [
        "from torch.optim import Adam\n",
        "import torch.nn as nn\n",
        " \n",
        "# Define the loss function with Classification Cross-Entropy loss and an optimizer with Adam optimizer\n",
        "criterion = nn.CrossEntropyLoss()\n",
        "optimizer = Adam(model.parameters(), lr=0.001, weight_decay=0.0001)"
      ]
    },
    {
      "cell_type": "markdown",
      "metadata": {
        "id": "7n13ymLoAekq"
      },
      "source": [
        ""
      ]
    },
    {
      "cell_type": "code",
      "execution_count": null,
      "metadata": {
        "id": "4RVB1dZuQMjw"
      },
      "outputs": [],
      "source": [
        "def train(EPOCHS):\n",
        "\n",
        "  for epoch in range(EPOCHS):\n",
        "    running_loss=0.0\n",
        "    for data in train_loader:\n",
        "      inputs,labels=data\n",
        "      print(\"Hello\")\n",
        "      #Zero the parameter gradient\n",
        "      optimizer.zero_grad()\n",
        "      # forward + backward + optimize\n",
        "      outputs = model(inputs)\n",
        "      loss = criterion(outputs, labels)\n",
        "      loss.backward()\n",
        "      optimizer.step()\n",
        "      \n",
        "      # print statistics\n",
        "      running_loss += loss.item()\n",
        "      if i % 2000 == 1999:    # print every 2000 mini-batches  \n",
        "        print(f'[{epoch + 1}, {i + 1:5d}] loss: {running_loss / 2000:.3f}')\n",
        "        running_loss = 0.0"
      ]
    },
    {
      "cell_type": "code",
      "execution_count": null,
      "metadata": {
        "id": "rkoNWUmz4jPD"
      },
      "outputs": [],
      "source": [
        "train(1)"
      ]
    },
    {
      "cell_type": "markdown",
      "metadata": {
        "id": "8XU8EEg430yM"
      },
      "source": [
        "Save the trained model"
      ]
    },
    {
      "cell_type": "code",
      "execution_count": null,
      "metadata": {
        "id": "56vffvZ7S8lO"
      },
      "outputs": [],
      "source": [
        "PATH = './result_net.pth'\n",
        "torch.save(model.state_dict(), PATH)\n"
      ]
    },
    {
      "cell_type": "code",
      "execution_count": null,
      "metadata": {
        "id": "LxZHo8duVtbG"
      },
      "outputs": [],
      "source": [
        ""
      ]
    }
  ],
  "metadata": {
    "accelerator": "GPU",
    "colab": {
      "collapsed_sections": [],
      "name": "gepilatas_hazi",
      "provenance": []
    },
    "kernelspec": {
      "display_name": "Python 3",
      "name": "python3"
    }
  },
  "nbformat": 4,
  "nbformat_minor": 0
}